{
 "cells": [
  {
   "cell_type": "code",
   "execution_count": 1,
   "id": "3051890c-d67a-4e1c-a726-fa21867ced13",
   "metadata": {},
   "outputs": [],
   "source": [
    "import pandas as pd\n",
    "import re\n",
    "\n",
    "import helper\n",
    "from climb import MP_Climb\n",
    "from climber import MP_Climber\n",
    "\n",
    "from bs4 import BeautifulSoup\n",
    "\n",
    "import mountain_project_scraper as mp\n",
    "\n",
    "LOCATION_DICT = {'Red River Gorge':'105841134', 'New River Gorge':'105855991',\n",
    "                 'Yosemite':'105833388', 'Gunks':'105798167', 'Boulder Canyon':'105744222',\n",
    "                 'Joshua Tree':'105720495', 'Eldorado Canyon':'105744246', 'Rumney':'105867829',\n",
    "                 'Red Rocks':'105731932', 'Horseshoe Canyon':'105903004', 'Indian Creek':'105716763',\n",
    "                 'Smith Rock':'105788989', 'Squamish':'105798170'}\n",
    "SPORT_CRAGS = ['Rumney', 'New River Gorge', 'Red Rocks', 'Boulder Canyon',\n",
    "               'Red River Gorge', 'Horseshoe Canyon', 'Smith Rock']\n",
    "TRAD_CRAGS = ['Squamish', 'Joshua Tree', 'Eldorado Canyon', 'Yosemite', 'Gunks',\n",
    "              'Indian Creek']"
   ]
  },
  {
   "cell_type": "code",
   "execution_count": 2,
   "id": "2d1f65b8-af4c-4974-95ee-331e94d0d3bd",
   "metadata": {},
   "outputs": [
    {
     "name": "stdout",
     "output_type": "stream",
     "text": [
      "Pulling Data for: Boulder Canyon\n"
     ]
    }
   ],
   "source": [
    "location='Boulder Canyon'\n",
    "location_code = LOCATION_DICT[location]\n",
    "print('Pulling Data for: ' + location)\n",
    "climb_data, climber_data = mp.loop_through_areas(location_code, location, climb_filter=['Sport'])\n"
   ]
  },
  {
   "cell_type": "code",
   "execution_count": 3,
   "id": "e0cbd8b5-331e-4c9a-9e93-700f695ab876",
   "metadata": {},
   "outputs": [],
   "source": [
    "climb_filter=['Sport']"
   ]
  },
  {
   "cell_type": "code",
   "execution_count": 4,
   "id": "5b5e3903-90e2-460c-a67c-b7e3392bb333",
   "metadata": {},
   "outputs": [],
   "source": [
    "# def get_mp_link(area_id, climb_filter=['sport','trad','tr']):\n",
    "\n",
    "# still the links do not generate properly from get_mp_link\n",
    "link = mp.get_mp_link(location_code, climb_filter=['sport'])\n",
    "climb_soup = helper.is_climb_url(link)\n",
    "cs = helper.is_climb_url('https://www.mountainproject.com/route/105756787/brownies-in-the-basin')"
   ]
  },
  {
   "cell_type": "code",
   "execution_count": 5,
   "id": "973a46f3-abaa-4d36-a32f-c247370cc5fb",
   "metadata": {},
   "outputs": [
    {
     "data": {
      "text/plain": [
       "'https://www.mountainproject.com/route-finder?&selectedIds=105744222&is_sport_climb=1&diffMaxrock=12400&diffMinrock=1000&sort1=area&sort2=rating&pitches=0&stars=0&type=rock&viewAll=1'"
      ]
     },
     "execution_count": 5,
     "metadata": {},
     "output_type": "execute_result"
    }
   ],
   "source": [
    "link"
   ]
  },
  {
   "cell_type": "code",
   "execution_count": 6,
   "id": "01928304-d731-46c6-aa23-9c4b851517a0",
   "metadata": {},
   "outputs": [],
   "source": [
    "cs3 = helper.is_climb_url('https://www.mountainproject.com/route-finder?diffMaxaid=75260&diffMaxboulder=21700&diffMaxice=38500&diffMaxmixed=60000&diffMaxrock=12400&diffMinaid=70000&diffMinboulder=20000&diffMinice=30000&diffMinmixed=50000&diffMinrock=1000&is_sport_climb=1&pitches=0&selectedIds=105744222&sort1=area&sort2=rating&stars=0&type=rock&viewAll=1')"
   ]
  },
  {
   "cell_type": "code",
   "execution_count": 7,
   "id": "bd0f56a8-432b-48f7-89bb-bdbb5e2508c2",
   "metadata": {},
   "outputs": [],
   "source": [
    "climb_total = int(cs3.find_all(class_=\"float-md-left\")[0].get_text().split('Results 1 to ')[1].split(' of')[0])"
   ]
  },
  {
   "cell_type": "code",
   "execution_count": 8,
   "id": "b0ba865c-36bd-4c1a-a274-a3e0fc92fd11",
   "metadata": {},
   "outputs": [
    {
     "data": {
      "text/plain": [
       "bs4.BeautifulSoup"
      ]
     },
     "execution_count": 8,
     "metadata": {},
     "output_type": "execute_result"
    }
   ],
   "source": [
    "type(cs3)"
   ]
  },
  {
   "cell_type": "code",
   "execution_count": 9,
   "id": "27ca9724-7705-4088-9ea4-7b3cf658cce9",
   "metadata": {},
   "outputs": [],
   "source": [
    "pull_climber_data = True"
   ]
  },
  {
   "cell_type": "code",
   "execution_count": null,
   "id": "c5dc1f2d-d7f8-409e-ba29-d456b78f550f",
   "metadata": {
    "scrolled": true
   },
   "outputs": [
    {
     "name": "stdout",
     "output_type": "stream",
     "text": [
      "Rock Climb Brownies In The Basin, Boulder Canyon\n",
      "Benjamn P\n",
      "Aaron Reite\n",
      "Craig Quincy\n",
      "Perry Schwinger\n",
      "Chris Perkins\n",
      "Mike B\n",
      "Padraig Buckley\n",
      "adam tschida\n",
      "Brian Coventry\n",
      "Leandro Barriga\n",
      "M M\n",
      "Joshua Cruce\n",
      "Yura Porotnikov\n",
      "Mel C\n",
      "Rich Kelly\n",
      "Kaylee Ludden\n",
      "Justin Bogan\n",
      "Aaron Lozier\n",
      "BrokenChairs 88\n",
      "Sarah Meiser\n",
      "Kelton R\n",
      "tim\n",
      "Jeremiah Tabb\n",
      "Tony Nguyen\n",
      "Bill Kinter\n",
      "LEAH B\n",
      "Mathias Gruber\n",
      "Rick Vermeil\n",
      "Shaun Gregory\n",
      "Ryan Dennis\n",
      "keith rehermann\n",
      "Michael Burleigh\n",
      "k8mandu\n",
      "Rob Owens\n",
      "Haley Young\n",
      "John Alcorn\n",
      "Aaron Moses\n",
      "Clint Locks\n",
      "Aaron Lucas\n",
      "Jackie K\n",
      "303scott\n",
      "Tombo\n",
      "Matt Holmes\n",
      "Jeremy Bauman\n",
      "Sean McLane\n",
      "dseltzer\n",
      "Scotty Nelson\n",
      "hwdamf keller\n",
      "Andy Riley\n",
      "Zac Church\n",
      "Danny Dekowzan\n",
      "R Klass\n",
      "susan\n",
      "Dean Carpenter\n",
      "Matt Schaning\n",
      "Casey Flynn\n",
      "Keegan\n",
      "Michael Taliaferro\n",
      "Bill Snyder\n",
      "whipplejw\n",
      "George Best\n",
      "Joshua Merriam\n",
      "Eric Goltz\n",
      "Mark Griffin\n",
      "Jordon Griffler\n",
      "James Beissel\n",
      "Brandon Bogardus\n",
      "Anona I.\n",
      "John Fleming\n",
      "Tony B\n",
      "Milt Strickler\n",
      "Ken Trout\n",
      "applewood\n",
      "Gregory S Davis\n",
      "Rock Climb Night Vision, Boulder Canyon\n",
      "MAKB\n",
      "Ralph Swansen\n",
      "Tinga Ling\n",
      "Amy Domino\n",
      "David Stillman\n",
      "Chris toph\n",
      "Andrew Biggs\n",
      "Ronald Burnett\n",
      "Heather Thorne\n",
      "Victor K\n",
      "Steph M\n",
      "Andy Hansen\n",
      "Mtn Cat\n",
      "JoshuaRichardson\n",
      "David Mills\n",
      "Tony Luchetta\n",
      "Samuel Andree\n",
      "Spencer Cone\n",
      "Jon Banks\n",
      "RWH\n",
      "Dwight Jugornot\n",
      "Michael Butts\n",
      "Michael Hodges\n",
      "Tom Caldwell\n",
      "Ryan Robison 1982\n",
      "Marty Combs\n",
      "Randy Garrett\n",
      "Andrew Glover\n",
      "pfwein Weinberg\n",
      "mt.wilson\n",
      "mtoensing\n",
      "kuus kuus\n",
      "adam cellemme\n",
      "Aaron M\n",
      "Chris Plesko\n",
      "Kat A\n",
      "Sims\n",
      "Hamlet73\n",
      "Mick Follari\n",
      "Mr. Butts\n",
      "Brent Roaten\n",
      "Mark Hammond\n",
      "wendy weiss\n",
      "Rock Climb Corn on the Cob, Boulder Canyon\n",
      "Simon Ford\n",
      "Brianna Hallinan\n",
      "Richard Czechowski\n",
      "Matt Hanson\n",
      "Matthew Epperson\n",
      "Tim Tonk\n",
      "AdamShep\n",
      "Kaz Hatfield\n",
      "Tanner Josey\n",
      "Luke Wheelan\n",
      "Jonathon B\n",
      "Burky\n",
      "Colton Weils\n",
      "brent b\n",
      "Alan Butler\n",
      "Danny Gilbert\n",
      "Marc Daubert\n",
      "Chris J\n",
      "Ryan W.\n",
      "tyler evans\n",
      "Rock Climb Thunder Road, Boulder Canyon\n",
      "Rock Climb Maid Marian, Boulder Canyon\n",
      "Rock Climb The Prince and The Pauper, Boulder Canyon\n",
      "Elise Strader\n",
      "Jason Evertts\n",
      "Meagan Shepherd\n",
      "Jeremiah Johnson\n",
      "Annie Huang\n",
      "Josh Barua\n",
      "Kyle Reppenhagen\n",
      "Jiawei Xu\n",
      "Tiffany Hauck\n",
      "Baylen Altizer\n",
      "Bob Ruzich\n",
      "Luke Clarke\n",
      "Nathan McDonald\n",
      "Kelly D\n",
      "Skippyville\n",
      "Allison Welty\n",
      "Matthew Botos\n",
      "Carlos Benitez\n",
      "Jeff Llewellyn\n",
      "Dustin V\n",
      "Reed V\n",
      "Chad K\n",
      "Trevor Ratchford\n",
      "Sommer C\n",
      "Stephen Kandl\n",
      "victor colussi\n",
      "G P\n",
      "Zach Sanderson\n",
      "Derek Neill\n",
      "David Gardner-Dale\n",
      "Brian R\n",
      "Daniel Minsky\n",
      "Benjamin Wold\n",
      "Lauren Brewer\n",
      "Ilya Igolnikov\n",
      "Blake B\n",
      "Xtra Sendsauce\n",
      "Leeanne\n",
      "Rachel May\n",
      "Nathan Ferrick\n",
      "Diana Rogers\n",
      "Randy Aristotle\n",
      "Peter Bradley\n",
      "Nick Williams\n",
      "Doreen Stitt\n",
      "Chris Gummer\n",
      "Eric Sauber\n",
      "Matt Melissa\n",
      "Tyler Duncan\n",
      "Seth Sawant\n",
      "Christian Vinyard\n",
      "MeeshCat Bandos\n",
      "Jack Ward\n",
      "Connor Moynihan\n",
      "Pedro Lemos\n",
      "Alex Burns\n",
      "Will Harte\n",
      "Evan Bosso\n",
      "Jonathan Bruce\n",
      "Julian Barnett\n",
      "Santiago Arteaga\n",
      "Jess Dauchy\n",
      "Gnarls von Powderborne\n",
      "Andrew Mularoni\n",
      "Me Mine\n",
      "Brooklyn Carver-Nguakle\n",
      "James Poindexter\n",
      "Bill W\n",
      "Bryce Kerscher\n",
      "nate k\n",
      "Dougald MacDonald\n",
      "Brian Sundermann\n",
      "Kevin Deng\n",
      "Andrew Winslow\n",
      "Matt Moskowitz\n",
      "Logan Smith\n",
      "Colin Murphy\n",
      "Todd Kice\n",
      "Jake Rugh\n",
      "Owen Martin\n",
      "Matt Piscopo\n",
      "J Carter\n",
      "chris cook\n",
      "Chrissy C\n",
      "Carter Young\n",
      "Deborah Roth\n",
      "Jess Lee\n",
      "Paul Blankley\n",
      "Victoria Blankley\n",
      "Sean _\n",
      "Amanda Herschleb\n",
      "Brandon Marquart\n",
      "Jamie Pratt\n",
      "Titus Ellison\n",
      "Quin K\n",
      "Heidi Keller\n",
      "Miranda Butler\n",
      "Heather Politi\n",
      "Luke Kelley\n",
      "An error occured\n",
      "Peter Gonda\n",
      "An error occured\n",
      "Adam Redfield\n",
      "Christopher Payan\n",
      "Annie Climbs\n",
      "An error occured\n",
      "mike h\n",
      "An error occured\n",
      "Laura Lochmann\n",
      "An error occured\n",
      "Todd Langley\n",
      "An error occured\n",
      "Matt Bennett\n",
      "An error occured\n",
      "Rafael Zapparoli\n",
      "An error occured\n",
      "Gareth Jones\n",
      "Miguel Cebrian\n",
      "An error occured\n",
      "Adam Meijer\n",
      "Jenna Michelle\n",
      "joe trabucco\n",
      "Josiah Davis\n",
      "Nate May\n"
     ]
    }
   ],
   "source": [
    "climb_data, climber_data = mp.loop_through_climbs(cs3, location, location_code, pull_climber_data, climb_total, climb_filter=climb_filter)"
   ]
  },
  {
   "cell_type": "code",
   "execution_count": null,
   "id": "3112858d-36cf-4ff6-a5ad-500b64a6b01c",
   "metadata": {},
   "outputs": [],
   "source": [
    "climb_data"
   ]
  },
  {
   "cell_type": "code",
   "execution_count": null,
   "id": "26331a63-0074-4301-9ee8-503c159ec37b",
   "metadata": {},
   "outputs": [],
   "source": [
    "link_list = []\n",
    "constant_export = False\n",
    "suppress_print = False"
   ]
  },
  {
   "cell_type": "code",
   "execution_count": null,
   "id": "f41d3848-45b3-437b-9027-445077473825",
   "metadata": {},
   "outputs": [],
   "source": [
    "link1 = cs3.find_all(href=re.compile(\"mountainproject.com/route/\"))[0].get('href')"
   ]
  },
  {
   "cell_type": "code",
   "execution_count": null,
   "id": "0f3ded3c-7d64-4e44-b755-942d01fd61ad",
   "metadata": {},
   "outputs": [],
   "source": [
    "brownies = helper.is_climb_url(link1)"
   ]
  },
  {
   "cell_type": "code",
   "execution_count": null,
   "id": "870c4ce1-1595-48ce-b664-4c33eb8a50eb",
   "metadata": {},
   "outputs": [],
   "source": [
    "broute = MP_Climb(brownies)"
   ]
  },
  {
   "cell_type": "code",
   "execution_count": null,
   "id": "84b5c835-cf11-4116-a8c5-3e5993c92dd7",
   "metadata": {},
   "outputs": [],
   "source": [
    "broute.to_df()"
   ]
  },
  {
   "cell_type": "code",
   "execution_count": null,
   "id": "f014e881-44f3-4b00-9d6c-55705f8233c9",
   "metadata": {},
   "outputs": [],
   "source": [
    "#climber_data, link_list = mp.get_ascent_data(broute, climber_data, link_list, location, constant_export, suppress_print, climb_filter=['sport','trad','tr'])"
   ]
  },
  {
   "cell_type": "code",
   "execution_count": null,
   "id": "ac556b77-7b38-419e-85de-5e75e96e4373",
   "metadata": {},
   "outputs": [],
   "source": [
    "link_list"
   ]
  },
  {
   "cell_type": "code",
   "execution_count": null,
   "id": "d61e206b-a9ca-4e98-a8d7-1b2060fc96af",
   "metadata": {},
   "outputs": [],
   "source": [
    "route_soup = helper.is_climb_url(broute.ascents_link)"
   ]
  },
  {
   "cell_type": "code",
   "execution_count": null,
   "id": "40ab8491-e17f-4a40-a724-babb6e4c23f9",
   "metadata": {},
   "outputs": [],
   "source": [
    "broute.ascents_link"
   ]
  },
  {
   "cell_type": "code",
   "execution_count": null,
   "id": "ff2a17ca-e9fa-4ac8-9329-3b6e441d7b31",
   "metadata": {},
   "outputs": [],
   "source": [
    "links = route_soup.find_all(\"a\") # Find all elements with the tag <a>\n",
    "#for link in links:\n",
    "#  print(\"Link:\", link.get(\"href\"), \"Text:\", link.string)\n",
    "\n"
   ]
  },
  {
   "cell_type": "code",
   "execution_count": null,
   "id": "9450c17b-379b-4e14-9a15-3529b0e477cd",
   "metadata": {
    "scrolled": true
   },
   "outputs": [],
   "source": [
    "from bs4 import BeautifulSoup\n",
    "from bs4.element import Comment\n",
    "import urllib.request\n",
    "\n",
    "\n",
    "def tag_visible(element):\n",
    "    if element.parent.name in ['style', 'script', 'head', 'title', 'meta', '[document]']:\n",
    "        return False\n",
    "    if isinstance(element, Comment):\n",
    "        return False\n",
    "    return True\n",
    "\n",
    "\n",
    "def text_from_html(body):\n",
    "    soup = BeautifulSoup(body, 'html.parser')\n",
    "    texts = soup.findAll(string=True)\n",
    "    visible_texts = filter(tag_visible, texts)  \n",
    "    return u\" \".join(t.strip() for t in visible_texts)\n",
    "\n",
    "html = urllib.request.urlopen('https://www.mountainproject.com/route/stats/105756787/brownies-in-the-basin').read()\n",
    "#print(text_from_html(html))"
   ]
  },
  {
   "cell_type": "code",
   "execution_count": null,
   "id": "2f7575af-c682-42cb-b43f-055a7f08482a",
   "metadata": {},
   "outputs": [],
   "source": [
    "from selenium import webdriver\n",
    "from selenium.webdriver.common.by import By\n",
    "from selenium.webdriver.chrome.service import Service\n",
    "from webdrivermanager.chrome import ChromeDriverManager\n",
    "\n",
    "ff_path = '/Users/oliviahull/geckodriver'\n",
    "url='https://www.mountainproject.com/route/stats/105756787/brownies-in-the-basin'\n",
    "\n",
    "cService = webdriver.FirefoxService(executable_path=ff_path)\n",
    "driver = webdriver.Firefox(service = cService)\n",
    "driver.get(url)\n",
    "\n",
    "driver.implicitly_wait(5)\n",
    "\n",
    "df = pd.read_html(driver.page_source)[0].dropna(axis=1)\n",
    "df3 = pd.read_html(driver.page_source)[1].dropna(axis=1)\n",
    "\n",
    "df2 = pd.read_html(driver.page_source)#.dropna(axis=1)\n",
    "\n",
    "driver.quit()"
   ]
  },
  {
   "cell_type": "code",
   "execution_count": null,
   "id": "1628631b-ff66-4d9f-9e81-a318ce82fee5",
   "metadata": {},
   "outputs": [],
   "source": [
    "ff_path = '/Users/oliviahull/geckodriver'\n",
    "url='https://www.mountainproject.com/route/stats/105756787/brownies-in-the-basin'\n",
    "\n",
    "cService = webdriver.FirefoxService(executable_path=ff_path)\n",
    "driver = webdriver.Firefox(service = cService)\n",
    "driver.get(url)\n",
    "\n",
    "driver.implicitly_wait(20)\n",
    "#soup = BeautifulSoup(driver.page_source, \"lxml\")\n",
    "\n",
    "soup = BeautifulSoup(driver.page_source, \"html.parser\")\n",
    "\n",
    "\n",
    "#for item in soup.select(\"table.table > tbody > tr\"):\n",
    "#    data = [i.text for i in item.select(\"td\")]\n",
    "#    print(data)\n",
    "\n",
    "driver.quit()"
   ]
  },
  {
   "cell_type": "code",
   "execution_count": null,
   "id": "906c1176-108d-4e58-ae84-3b28a37c49c5",
   "metadata": {},
   "outputs": [],
   "source": [
    "tick_options = soup.find_all(class_=\"table table-striped\")"
   ]
  },
  {
   "cell_type": "code",
   "execution_count": null,
   "id": "b7381f91-1222-4e2e-ab44-f8b4b25f3ddd",
   "metadata": {},
   "outputs": [],
   "source": [
    "ticks = tick_options[3]"
   ]
  },
  {
   "cell_type": "code",
   "execution_count": null,
   "id": "f9de6ee3-411f-4f5c-beaf-5ef44bb3d6d7",
   "metadata": {},
   "outputs": [],
   "source": [
    "link = climber_links[0]\n",
    "name = link.get_text()\n",
    "#formatted_name = (re.search(r'>([^<]+)<', str(link))).group(1).lower().replace(' ','-')\n",
    "formatted_name = name.lower().replace(' ', '-')\n",
    "url = f'https://mountainproject.com{link.get('href')}/{formatted_name}/tick-export'"
   ]
  },
  {
   "cell_type": "code",
   "execution_count": null,
   "id": "7d769a28-e90a-494a-8337-d6979d7e65db",
   "metadata": {},
   "outputs": [],
   "source": [
    "climber_soup = helper.is_climb_url(url)"
   ]
  },
  {
   "cell_type": "code",
   "execution_count": null,
   "id": "4cb786b0-e1dd-4680-8b79-a3a9d803f74d",
   "metadata": {},
   "outputs": [],
   "source": [
    "climber_o = MP_Climber(climber_soup, name=name, sport_definition=climb_filter)"
   ]
  },
  {
   "cell_type": "code",
   "execution_count": null,
   "id": "ba46562a-59a1-4c86-9b52-9150703e8480",
   "metadata": {},
   "outputs": [],
   "source": [
    "climber_o.to_df()"
   ]
  },
  {
   "cell_type": "code",
   "execution_count": null,
   "id": "efeca34d-cf84-4861-a33a-f3bea64cceac",
   "metadata": {},
   "outputs": [],
   "source": [
    "names = [ (re.search(r'>([^<]+)<', str(link))).group(1).lower().replace(' ','-') for link in climber_links]\n",
    "# formatted_name = name.lower().replace(' ', '-')"
   ]
  },
  {
   "cell_type": "code",
   "execution_count": null,
   "id": "9107a6b2-4548-4e5b-8efe-97361aaee361",
   "metadata": {},
   "outputs": [],
   "source": [
    "names"
   ]
  },
  {
   "cell_type": "code",
   "execution_count": null,
   "id": "09e2a435-18ba-4769-bd79-c926b4bf66b2",
   "metadata": {},
   "outputs": [],
   "source": []
  }
 ],
 "metadata": {
  "kernelspec": {
   "display_name": "Python 3 (ipykernel)",
   "language": "python",
   "name": "python3"
  },
  "language_info": {
   "codemirror_mode": {
    "name": "ipython",
    "version": 3
   },
   "file_extension": ".py",
   "mimetype": "text/x-python",
   "name": "python",
   "nbconvert_exporter": "python",
   "pygments_lexer": "ipython3",
   "version": "3.12.2"
  }
 },
 "nbformat": 4,
 "nbformat_minor": 5
}
